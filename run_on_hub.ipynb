{
 "cells": [
  {
   "cell_type": "markdown",
   "id": "53ede01c-546d-4f25-ad44-17c8ae5b468c",
   "metadata": {},
   "source": [
    "## Dataflow is blocked by zenodo (too many requests). \n",
    "\n",
    "Lets try to run it here\n",
    "\n"
   ]
  },
  {
   "cell_type": "code",
   "execution_count": 2,
   "id": "d0e9c88b-ac58-4f47-a6d3-de9ba5ad95cc",
   "metadata": {},
   "outputs": [
    {
     "name": "stdout",
     "output_type": "stream",
     "text": [
      "\n",
      "                  __    __    __    __\n",
      "                 /  \\  /  \\  /  \\  /  \\\n",
      "                /    \\/    \\/    \\/    \\\n",
      "███████████████/  /██/  /██/  /██/  /████████████████████████\n",
      "              /  / \\   / \\   / \\   / \\  \\____\n",
      "             /  /   \\_/   \\_/   \\_/   \\    o \\__,\n",
      "            / _/                       \\_____/  `\n",
      "            |/\n",
      "        ███╗   ███╗ █████╗ ███╗   ███╗██████╗  █████╗\n",
      "        ████╗ ████║██╔══██╗████╗ ████║██╔══██╗██╔══██╗\n",
      "        ██╔████╔██║███████║██╔████╔██║██████╔╝███████║\n",
      "        ██║╚██╔╝██║██╔══██║██║╚██╔╝██║██╔══██╗██╔══██║\n",
      "        ██║ ╚═╝ ██║██║  ██║██║ ╚═╝ ██║██████╔╝██║  ██║\n",
      "        ╚═╝     ╚═╝╚═╝  ╚═╝╚═╝     ╚═╝╚═════╝ ╚═╝  ╚═╝\n",
      "\n",
      "        mamba (1.1.0) supported by @QuantStack\n",
      "\n",
      "        GitHub:  https://github.com/mamba-org/mamba\n",
      "        Twitter: https://twitter.com/QuantStack\n",
      "\n",
      "█████████████████████████████████████████████████████████████\n",
      "\n",
      "\n",
      "Looking for: ['python=3.9']\n",
      "\n",
      "conda-forge/linux-64                                        Using cache\n",
      "conda-forge/noarch                                          Using cache\n",
      "Could not solve for environment specs\n",
      "Encountered problems while solving:\n",
      "  - cannot install both python-3.9.10-0_73_pypy and python-3.10.9-he550d4f_0_cpython\n",
      "\n",
      "The environment can't be solved, aborting the operation\n",
      "\n"
     ]
    }
   ],
   "source": [
    "!mamba update \"python=3.9\" -y"
   ]
  },
  {
   "cell_type": "code",
   "execution_count": 3,
   "id": "418eb2ee-62cd-4376-b576-57843617b8f4",
   "metadata": {},
   "outputs": [],
   "source": [
    "# !mamba env create -f environment.yaml"
   ]
  },
  {
   "cell_type": "code",
   "execution_count": 5,
   "id": "334e284b-317e-43af-9baf-7a0e38b745a1",
   "metadata": {},
   "outputs": [],
   "source": [
    "# !pip install git+https://github.com/pangeo-forge/pangeo-forge-recipes.git@beam-refactor\n",
    "# # need to do this separately because no deps (otherwise conflicts with pgf-recipes)\n",
    "# !pip install git+https://github.com/pangeo-forge/pangeo-forge-runner.git@arbitrary-injections --no-deps"
   ]
  },
  {
   "cell_type": "markdown",
   "id": "081a44ed-424a-4fc4-afca-6d7cb3b25538",
   "metadata": {},
   "source": [
    "run in command line\n",
    "```\n",
    "conda activate test_leap_dataset\n",
    "pangeo-forge-runner bake --repo \"https://github.com/jbusecke/test_leap_dataset.git\" --ref \"master\" -f config_hub.json --Bake.recipe_id=METAFLUX_GPP_RECO_daily --Bake.job_name=justafunnytest8\n",
    "```\n",
    "\n",
    "> CHoose different jobname maybe"
   ]
  },
  {
   "cell_type": "code",
   "execution_count": null,
   "id": "6fba0c9e-f4fb-4e63-a562-f03895a9ec3e",
   "metadata": {},
   "outputs": [],
   "source": []
  }
 ],
 "metadata": {
  "kernelspec": {
   "display_name": "Python 3 (ipykernel)",
   "language": "python",
   "name": "python3"
  },
  "language_info": {
   "codemirror_mode": {
    "name": "ipython",
    "version": 3
   },
   "file_extension": ".py",
   "mimetype": "text/x-python",
   "name": "python",
   "nbconvert_exporter": "python",
   "pygments_lexer": "ipython3",
   "version": "3.10.9"
  }
 },
 "nbformat": 4,
 "nbformat_minor": 5
}
